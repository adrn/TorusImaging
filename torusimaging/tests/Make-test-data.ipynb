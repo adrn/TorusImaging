{
 "cells": [
  {
   "cell_type": "code",
   "execution_count": null,
   "id": "a308076c-2bfd-4403-b52c-11ef6d882edf",
   "metadata": {},
   "outputs": [],
   "source": [
    "import pathlib\n",
    "\n",
    "import astropy.table as at\n",
    "import astropy.units as u\n",
    "import gala.potential as gp\n",
    "import matplotlib as mpl\n",
    "import matplotlib.pyplot as plt\n",
    "\n",
    "%matplotlib inline\n",
    "import numpy as np\n",
    "from gala.units import galactic\n",
    "from scipy.stats import binned_statistic_2d"
   ]
  },
  {
   "cell_type": "markdown",
   "id": "6517792e-03bf-4073-9629-54bd70e0b6ad",
   "metadata": {},
   "source": [
    "Make test data in a Harmonic oscillator:"
   ]
  },
  {
   "cell_type": "code",
   "execution_count": null,
   "id": "31fcc1ce-e1fc-4355-a7a9-77c656457763",
   "metadata": {},
   "outputs": [],
   "source": [
    "Omega = 0.05 * u.rad / u.Myr\n",
    "\n",
    "scale_vz = 50 * u.km / u.s\n",
    "sz = (scale_vz / np.sqrt(Omega)).decompose(galactic)"
   ]
  },
  {
   "cell_type": "code",
   "execution_count": null,
   "id": "71830169-a122-4a86-bdc5-ae2bec74d7ea",
   "metadata": {},
   "outputs": [],
   "source": [
    "N = 200_000\n",
    "\n",
    "rng = np.random.default_rng(42)\n",
    "with u.set_enabled_equivalencies(u.dimensionless_angles()):\n",
    "    Jzs = (rng.exponential(scale=sz.value**2, size=N) * sz.unit**2).to(\n",
    "        galactic[\"length\"] ** 2 / galactic[\"time\"]\n",
    "    )\n",
    "    thzs = rng.uniform(0, 2 * np.pi, size=N) * u.rad\n",
    "\n",
    "with u.set_enabled_equivalencies(u.dimensionless_angles()):\n",
    "    pdata = {\n",
    "        \"z\": (np.sqrt(2 * Jzs / Omega) * np.sin(thzs)).to(galactic[\"length\"]),\n",
    "        \"vz\": (np.sqrt(2 * Jzs * Omega) * np.cos(thzs)).to(\n",
    "            galactic[\"length\"] / galactic[\"time\"]\n",
    "        ),\n",
    "        \"Jz\": Jzs,\n",
    "        \"thetaz\": thzs,\n",
    "    }\n",
    "    pdata[\"r_e\"] = np.sqrt(pdata[\"z\"] ** 2 * Omega + pdata[\"vz\"] ** 2 / Omega)\n",
    "    pdata[\"label\"] = rng.normal(np.sqrt(0.15) * pdata[\"Jz\"].value ** 0.5 + 0.025, 0.04)"
   ]
  },
  {
   "cell_type": "markdown",
   "id": "caab08f2-5766-4ad4-a97a-60591ed00596",
   "metadata": {},
   "source": [
    "Bin the particle data to make 2D arrays to save for tests:"
   ]
  },
  {
   "cell_type": "code",
   "execution_count": null,
   "id": "fc485f63-2aa7-4ee3-90c3-8aa9fcbfa1d8",
   "metadata": {},
   "outputs": [],
   "source": [
    "vzlim = (-100, 100)\n",
    "zlim = (-3, 3)\n",
    "Nbins = 128\n",
    "bins = (np.linspace(*vzlim, Nbins), np.linspace(*zlim, Nbins))"
   ]
  },
  {
   "cell_type": "code",
   "execution_count": null,
   "id": "b52fbf1d-642c-4373-a422-b862ada09d3e",
   "metadata": {},
   "outputs": [],
   "source": [
    "H_dens_testdata, *_ = np.histogram2d(\n",
    "    pdata[\"vz\"].to_value(u.km / u.s),\n",
    "    pdata[\"z\"].to_value(u.kpc),\n",
    "    bins=bins,\n",
    ")\n",
    "\n",
    "H_abun_testdata, *_ = binned_statistic_2d(\n",
    "    pdata[\"vz\"].to_value(u.km / u.s),\n",
    "    pdata[\"z\"].to_value(u.kpc),\n",
    "    pdata[\"label\"],\n",
    "    bins=bins,\n",
    ")"
   ]
  },
  {
   "cell_type": "code",
   "execution_count": null,
   "id": "45026770-c480-4bf1-a3a3-21130675ced7",
   "metadata": {},
   "outputs": [],
   "source": [
    "xc = 0.5 * (bins[0][:-1] + bins[0][1:])\n",
    "yc = 0.5 * (bins[1][:-1] + bins[1][1:])\n",
    "xc, yc = np.meshgrid(xc, yc)\n",
    "\n",
    "test_data = {\n",
    "    \"z\": (np.array(yc) * u.kpc).decompose(galactic).value,\n",
    "    \"vz\": (np.array(xc) * u.km / u.s).decompose(galactic).value,\n",
    "    \"H_dens\": np.array(H_dens_testdata.T),\n",
    "    \"H_label\": np.array(H_abun_testdata.T),\n",
    "}\n",
    "np.savez(\"test-data.npz\", **test_data)"
   ]
  },
  {
   "cell_type": "code",
   "execution_count": null,
   "id": "aaf8f4e4-85f1-4c3b-9cef-6a6a71ba5fdb",
   "metadata": {},
   "outputs": [],
   "source": [
    "fig, axes = plt.subplots(1, 2, figsize=(10, 5), constrained_layout=True)\n",
    "\n",
    "axes[0].pcolormesh(\n",
    "    test_data[\"vz\"],\n",
    "    test_data[\"z\"],\n",
    "    test_data[\"H_dens\"],\n",
    "    cmap=\"Greys\",\n",
    "    norm=mpl.colors.LogNorm(vmin=0.5),\n",
    ")\n",
    "axes[1].pcolormesh(\n",
    "    test_data[\"vz\"], test_data[\"z\"], test_data[\"H_label\"], cmap=\"magma_r\"\n",
    ")"
   ]
  },
  {
   "cell_type": "markdown",
   "id": "3a89923f-9549-43de-99b8-643a7c8d6e39",
   "metadata": {},
   "source": [
    "---\n",
    "\n",
    "# Test prototyping\n",
    "\n",
    "Should be moved into `test_model.py`"
   ]
  },
  {
   "cell_type": "code",
   "execution_count": null,
   "id": "f2e7ee23-e5e5-4787-9904-e0ea663b4009",
   "metadata": {},
   "outputs": [],
   "source": [
    "from functools import partial\n",
    "\n",
    "import jax\n",
    "\n",
    "jax.config.update(\"jax_enable_x64\", True)\n",
    "import jax.numpy as jnp\n",
    "import jaxopt\n",
    "import torusimaging as oti"
   ]
  },
  {
   "cell_type": "code",
   "execution_count": null,
   "id": "b8654d2e-18bd-4441-b1eb-1ef6d1d051d9",
   "metadata": {},
   "outputs": [],
   "source": [
    "test_data = np.load(\"test-data.npz\", allow_pickle=True)"
   ]
  },
  {
   "cell_type": "code",
   "execution_count": null,
   "id": "3e1c5f5f-7fda-4fcf-b9e1-6a4c2929f479",
   "metadata": {},
   "outputs": [],
   "source": [
    "Omega = 0.05 * u.rad / u.Myr\n",
    "max_re = 3.0 * np.sqrt(Omega.value)\n",
    "max_re"
   ]
  },
  {
   "cell_type": "markdown",
   "id": "a124ffae-7d6d-4cb8-a86c-87b538efdbc1",
   "metadata": {},
   "source": [
    "## Density"
   ]
  },
  {
   "cell_type": "code",
   "execution_count": null,
   "id": "624d87e3-ffd9-483b-bf17-8760458066cb",
   "metadata": {},
   "outputs": [],
   "source": [
    "vzlim = (-100, 100)\n",
    "zlim = (-3, 3)\n",
    "Nbins = 128\n",
    "bins = {\n",
    "    \"vel\": np.linspace(*vzlim, Nbins) * u.km / u.s,\n",
    "    \"pos\": np.linspace(*zlim, Nbins) * u.kpc,\n",
    "}\n",
    "data = oti.data.OTIData(pdata[\"z\"], pdata[\"vz\"])\n",
    "bdata = data.get_binned_counts(bins=bins)"
   ]
  },
  {
   "cell_type": "code",
   "execution_count": null,
   "id": "11c13b9d-4ca0-47ec-83bc-0e4e78a49d84",
   "metadata": {},
   "outputs": [],
   "source": [
    "n_dens_knots = 10\n",
    "\n",
    "# Knot locations, spaced equally in r_z\n",
    "ln_dens_knots = jnp.linspace(0, max_re, n_dens_knots)\n",
    "\n",
    "\n",
    "def ln_dens_func(rz, ln_dens_vals):\n",
    "    return oti.model_helpers.monotonic_quadratic_spline(\n",
    "        ln_dens_knots**2, ln_dens_vals, rz**2\n",
    "    )\n",
    "\n",
    "\n",
    "ln_dens_bounds = {\n",
    "    \"ln_dens_vals\": (\n",
    "        np.concatenate(([-5], jnp.full(n_dens_knots - 1, -25.0))),\n",
    "        np.concatenate(([25], jnp.full(n_dens_knots - 1, 0.0))),\n",
    "    )\n",
    "}"
   ]
  },
  {
   "cell_type": "code",
   "execution_count": null,
   "id": "36ffe58f-95d4-46ac-9eb0-fd62aa86a567",
   "metadata": {},
   "outputs": [],
   "source": [
    "# NOTE: ln_Omega is exactly degenerate with e2 value at small rz, so we only use a few knots\n",
    "\n",
    "n_knots = {2: 5}  # , 4: 9}\n",
    "e_knots = {m: jnp.linspace(0, ln_dens_knots.max(), n_knots[m]) for m in n_knots}\n",
    "e_signs = {2: 1.0, 4: -1.0}\n",
    "\n",
    "\n",
    "def e_func_base(rzp, vals, m):\n",
    "    return e_signs[m] * oti.model_helpers.monotonic_quadratic_spline(\n",
    "        e_knots[m], jnp.concatenate((jnp.array([0.0]), vals)), rzp\n",
    "    )\n",
    "\n",
    "\n",
    "e_funcs = {m: partial(e_func_base, m=m) for m in e_knots}\n",
    "\n",
    "e_params0 = {m: {\"vals\": np.zeros(n_knots[m] - 1)} for m in e_funcs}\n",
    "e_bounds = {\n",
    "    m: {\"vals\": (np.full(n_knots[m] - 1, 0), np.full(n_knots[m] - 1, 1))}\n",
    "    for m in e_funcs\n",
    "}"
   ]
  },
  {
   "cell_type": "code",
   "execution_count": null,
   "id": "183b7b16-d517-4e78-8b07-2eb087b66347",
   "metadata": {},
   "outputs": [],
   "source": [
    "def reg_func(params):\n",
    "    p = 0.0\n",
    "\n",
    "    # L1 norm\n",
    "    for k in params[\"e_params\"]:\n",
    "        p += jnp.sum(jnp.abs(params[\"e_params\"][k][\"vals\"]) / 0.1)\n",
    "\n",
    "    #     p += jnp.sum(jnp.abs(params['ln_dens_params']['ln_dens_vals']) / 1.)\n",
    "\n",
    "    return p\n",
    "\n",
    "\n",
    "model = oti.DensityOrbitModel(\n",
    "    ln_dens_func=ln_dens_func,\n",
    "    e_funcs=e_funcs,\n",
    "    regularization_func=reg_func,\n",
    "    unit_sys=galactic,\n",
    ")"
   ]
  },
  {
   "cell_type": "code",
   "execution_count": null,
   "id": "c29b63bc-3585-4f5d-b0ab-e541d7c06fae",
   "metadata": {},
   "outputs": [],
   "source": [
    "params0 = {}\n",
    "\n",
    "params0[\"ln_Omega0\"] = np.log(Omega.value) * 1.03\n",
    "params0[\"pos0\"] = 0.0\n",
    "params0[\"vel0\"] = 0.0\n",
    "\n",
    "params0[\"e_params\"] = e_params0\n",
    "params0[\"ln_dens_params\"] = {\"ln_dens_vals\": np.zeros(n_dens_knots)}"
   ]
  },
  {
   "cell_type": "code",
   "execution_count": null,
   "id": "a0a045ec-5d14-499b-b366-ddf1009df153",
   "metadata": {},
   "outputs": [],
   "source": [
    "bounds = {}\n",
    "\n",
    "_dens0 = [0.01, 2] * u.Msun / u.pc**3\n",
    "bounds[\"ln_Omega0\"] = (np.log(1e-4), np.log(1e0))\n",
    "bounds[\"pos0\"] = (-0.5, 0.5)\n",
    "bounds[\"vel0\"] = (-0.05, 0.05)\n",
    "\n",
    "bounds[\"e_params\"] = e_bounds\n",
    "bounds[\"ln_dens_params\"] = ln_dens_bounds"
   ]
  },
  {
   "cell_type": "code",
   "execution_count": null,
   "id": "540dc0fe-a2a2-4760-aabc-c587562604f4",
   "metadata": {},
   "outputs": [],
   "source": [
    "model.objective(params0, bdata[\"pos\"].value, bdata[\"vel\"].value, bdata[\"counts\"])"
   ]
  },
  {
   "cell_type": "code",
   "execution_count": null,
   "id": "9ec91d5c-77f3-407a-80e2-8b11b4884b9e",
   "metadata": {},
   "outputs": [],
   "source": [
    "res = model.optimize(\n",
    "    params0=params0,\n",
    "    bounds=bounds,\n",
    "    jaxopt_kwargs={\"tol\": 1e-10},\n",
    "    pos=bdata[\"pos\"].value,\n",
    "    vel=bdata[\"vel\"].value,\n",
    "    dens=bdata[\"counts\"],\n",
    ")\n",
    "res.state.success, res.state.iter_num"
   ]
  },
  {
   "cell_type": "code",
   "execution_count": null,
   "id": "b7d053f0-8928-44ff-9381-2ecaac39580c",
   "metadata": {},
   "outputs": [],
   "source": [
    "res.params"
   ]
  },
  {
   "cell_type": "code",
   "execution_count": null,
   "id": "390dc8ab-5c3d-452c-87ca-31155dfd61ae",
   "metadata": {},
   "outputs": [],
   "source": [
    "fig, axes = oti.plot.plot_data_models_residual(bdata, model, params0, res.params)"
   ]
  },
  {
   "cell_type": "markdown",
   "id": "81b7e8f9-1dde-4c60-bb12-a577a537ce93",
   "metadata": {},
   "source": [
    "## Label"
   ]
  },
  {
   "cell_type": "code",
   "execution_count": null,
   "id": "e1a4a5a8-1ad2-4cca-981f-d31df7253adc",
   "metadata": {},
   "outputs": [],
   "source": [
    "vzlim = (-100, 100)\n",
    "zlim = (-3, 3)\n",
    "Nbins = 128\n",
    "bins = {\n",
    "    \"vel\": np.linspace(*vzlim, Nbins) * u.km / u.s,\n",
    "    \"pos\": np.linspace(*zlim, Nbins) * u.kpc,\n",
    "}\n",
    "label_data = oti.data.OTIData(pdata[\"z\"], pdata[\"vz\"], label=pdata[\"label\"])"
   ]
  },
  {
   "cell_type": "code",
   "execution_count": null,
   "id": "bb1e458e-2264-44a0-82f2-037237cfc8d5",
   "metadata": {},
   "outputs": [],
   "source": [
    "label_bdata = label_data.get_binned_label(bins=bins)\n",
    "# label_count_bdata = label_data.get_binned_counts(bins=bins)\n",
    "label_err_bdata = label_data.get_binned_label(\n",
    "    # bins=bins, statistic=lambda x: 1.5 * np.nanmedian(np.abs(x - np.nanmedian(x)))\n",
    "    bins=bins,\n",
    "    statistic=lambda x: np.sqrt(0.02**2 + np.var(x)) / np.sqrt(len(x)),\n",
    ")\n",
    "\n",
    "# HACK:\n",
    "# label_bdata[\"label_err\"] = np.sqrt(0.02**2 + (0.05 * label_bdata[\"label\"])**2)\n",
    "# label_bdata[\"label_err\"] = np.sqrt(0.02**2 + label_err_bdata[\"label\"] ** 2) / np.sqrt(label_count_bdata['counts'])\n",
    "label_bdata[\"label_err\"] = label_err_bdata[\"label\"]"
   ]
  },
  {
   "cell_type": "code",
   "execution_count": null,
   "id": "63e91cc6-95fd-4b10-b2a7-7aa851affe4b",
   "metadata": {},
   "outputs": [],
   "source": [
    "fig, axes = plt.subplots(\n",
    "    1, 2, figsize=(10, 6), constrained_layout=True, sharex=True, sharey=True\n",
    ")\n",
    "cs = axes[0].pcolormesh(\n",
    "    label_bdata[\"vel\"].to_value(u.km / u.s),\n",
    "    label_bdata[\"pos\"].to_value(u.kpc),\n",
    "    label_bdata[\"label\"],\n",
    ")\n",
    "cb = fig.colorbar(cs, ax=axes[0], orientation=\"horizontal\")\n",
    "\n",
    "cs = axes[1].pcolormesh(\n",
    "    label_bdata[\"vel\"].to_value(u.km / u.s),\n",
    "    label_bdata[\"pos\"].to_value(u.kpc),\n",
    "    label_bdata[\"label_err\"],\n",
    ")\n",
    "cb = fig.colorbar(cs, ax=axes[1], orientation=\"horizontal\")"
   ]
  },
  {
   "cell_type": "code",
   "execution_count": null,
   "id": "22fb8641-0eca-4bd6-beef-8da285dfcabb",
   "metadata": {},
   "outputs": [],
   "source": [
    "n_label_knots = 5\n",
    "\n",
    "# Knot locations, spaced equally in r_z\n",
    "label_knots = jnp.linspace(0, max_rzp, n_label_knots)\n",
    "\n",
    "\n",
    "def label_func(rz, label_vals):\n",
    "    return oti.model_helpers.monotonic_quadratic_spline(label_knots, label_vals, rz)\n",
    "\n",
    "\n",
    "label_func_bounds = {\n",
    "    \"label_vals\": (\n",
    "        np.concatenate(([-1.0], jnp.full(n_label_knots - 1, 0.0))),\n",
    "        np.concatenate(([1.0], jnp.full(n_label_knots - 1, 5.0))),\n",
    "    )\n",
    "}"
   ]
  },
  {
   "cell_type": "code",
   "execution_count": null,
   "id": "fa870db6-1560-44f6-8590-b80b08d88d59",
   "metadata": {},
   "outputs": [],
   "source": [
    "# NOTE: ln_Omega is exactly degenerate with e2 value at small rz, so we only use a few knots\n",
    "\n",
    "n_knots = {2: 5}  # , 4: 9}\n",
    "e_knots = {m: jnp.linspace(0, label_knots.max(), n_knots[m]) for m in n_knots}\n",
    "e_signs = {2: 1.0, 4: -1.0}\n",
    "\n",
    "\n",
    "def e_func_base(rzp, vals, m):\n",
    "    return e_signs[m] * oti.model_helpers.monotonic_quadratic_spline(\n",
    "        e_knots[m], jnp.concatenate((jnp.array([0.0]), vals)), rzp\n",
    "    )\n",
    "\n",
    "\n",
    "e_funcs = {m: partial(e_func_base, m=m) for m in e_knots}\n",
    "\n",
    "e_params0 = {m: {\"vals\": np.zeros(n_knots[m] - 1)} for m in e_funcs}\n",
    "e_bounds = {\n",
    "    m: {\"vals\": (np.full(n_knots[m] - 1, 0), np.full(n_knots[m] - 1, 1))}\n",
    "    for m in e_funcs\n",
    "}"
   ]
  },
  {
   "cell_type": "code",
   "execution_count": null,
   "id": "2f0d7bd0-30f9-4063-9823-b71e0b1b8ac5",
   "metadata": {},
   "outputs": [],
   "source": [
    "label_model = oti.LabelOrbitModel(\n",
    "    label_func=label_func,\n",
    "    e_funcs=e_funcs,\n",
    "    # regularization_func=reg_func,\n",
    "    unit_sys=galactic,\n",
    ")"
   ]
  },
  {
   "cell_type": "code",
   "execution_count": null,
   "id": "c46b0785-175a-4097-b030-612e355c8ed7",
   "metadata": {},
   "outputs": [],
   "source": [
    "rz0, _ = label_model.z_vz_to_rz_theta_prime(\n",
    "    pdata[\"z\"].value, pdata[\"vz\"].value, label_params0\n",
    ")\n",
    "# plt.plot(rz0, pdata['label'], marker='o', ls='none')"
   ]
  },
  {
   "cell_type": "code",
   "execution_count": null,
   "id": "a12b3f45-4941-4d41-a15e-b63888183d4d",
   "metadata": {},
   "outputs": [],
   "source": [
    "label_params0 = {}\n",
    "\n",
    "label_params0[\"ln_Omega\"] = np.log(Omega.value)  # * 1.03\n",
    "label_params0[\"z0\"] = 0.0\n",
    "label_params0[\"vz0\"] = 0.0\n",
    "\n",
    "label_params0[\"e_params\"] = e_params0\n",
    "label_params0[\"label_params\"] = {\n",
    "    \"label_vals\": np.concatenate(\n",
    "        ([np.nanmean(pdata[\"label\"][rz0 < 0.05])], np.full(n_label_knots - 1, 0.3))\n",
    "    )\n",
    "}"
   ]
  },
  {
   "cell_type": "code",
   "execution_count": null,
   "id": "d58f42af-8a59-41ce-a756-cac77eee413b",
   "metadata": {},
   "outputs": [],
   "source": [
    "label_bounds = {}\n",
    "\n",
    "_dens0 = [0.01, 2] * u.Msun / u.pc**3\n",
    "label_bounds[\"ln_Omega\"] = (np.log(1e-4), np.log(1e0))\n",
    "label_bounds[\"z0\"] = (-0.5, 0.5)\n",
    "label_bounds[\"vz0\"] = (-0.05, 0.05)\n",
    "\n",
    "label_bounds[\"e_params\"] = e_bounds\n",
    "label_bounds[\"label_params\"] = label_func_bounds"
   ]
  },
  {
   "cell_type": "code",
   "execution_count": null,
   "id": "a95776f2-a0d6-47d7-b57c-595f22561db7",
   "metadata": {},
   "outputs": [],
   "source": [
    "label_model.objective(\n",
    "    label_params0,\n",
    "    z=label_bdata[\"pos\"].decompose(galactic).value,\n",
    "    vz=label_bdata[\"vel\"].decompose(galactic).value,\n",
    "    label=label_bdata[\"label\"],\n",
    "    label_err=label_bdata[\"label_err\"],\n",
    ")"
   ]
  },
  {
   "cell_type": "code",
   "execution_count": null,
   "id": "1338f998-7f1d-4914-bcf5-8005096d6817",
   "metadata": {},
   "outputs": [],
   "source": [
    "mask = np.isfinite(label_bdata[\"label\"])\n",
    "\n",
    "label_res = label_model.optimize(\n",
    "    params0=label_params0,\n",
    "    bounds=label_bounds,\n",
    "    jaxopt_kwargs={\"tol\": 1e-14},\n",
    "    z=label_bdata[\"pos\"].decompose(galactic).value[mask],\n",
    "    vz=label_bdata[\"vel\"].decompose(galactic).value[mask],\n",
    "    label=label_bdata[\"label\"][mask],\n",
    "    label_err=label_bdata[\"label_err\"][mask],\n",
    ")\n",
    "label_res.state.success, label_res.state.iter_num"
   ]
  },
  {
   "cell_type": "code",
   "execution_count": null,
   "id": "1f559243-f500-49f2-8a8d-5a55871f4c58",
   "metadata": {},
   "outputs": [],
   "source": [
    "label_res.params"
   ]
  },
  {
   "cell_type": "code",
   "execution_count": null,
   "id": "a790d415-83b8-46de-87a8-50033b09d9dc",
   "metadata": {},
   "outputs": [],
   "source": [
    "tmp = {\"z\": test_data[\"z\"], \"vz\": test_data[\"vz\"], \"label\": label_bdata[\"label\"].T}\n",
    "fig, axes = oti.plot.plot_data_models_label_residual(\n",
    "    tmp, label_model, label_params0, label_res.params\n",
    ")"
   ]
  },
  {
   "cell_type": "code",
   "execution_count": null,
   "id": "d7c83f9c-45a7-4e01-86d1-bd60245ad69b",
   "metadata": {},
   "outputs": [],
   "source": []
  },
  {
   "cell_type": "code",
   "execution_count": null,
   "id": "2d5b83c5-8dcc-43d4-8092-77d6a151c5ca",
   "metadata": {},
   "outputs": [],
   "source": []
  }
 ],
 "metadata": {
  "kernelspec": {
   "display_name": "Python [conda env:root] *",
   "language": "python",
   "name": "conda-root-py"
  },
  "language_info": {
   "codemirror_mode": {
    "name": "ipython",
    "version": 3
   },
   "file_extension": ".py",
   "mimetype": "text/x-python",
   "name": "python",
   "nbconvert_exporter": "python",
   "pygments_lexer": "ipython3",
   "version": "3.10.12"
  }
 },
 "nbformat": 4,
 "nbformat_minor": 5
}
